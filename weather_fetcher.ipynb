{
  "nbformat": 4,
  "nbformat_minor": 0,
  "metadata": {
    "colab": {
      "provenance": [],
      "authorship_tag": "ABX9TyNnXcZ2nds4Ys8scEJwjuT/",
      "include_colab_link": true
    },
    "kernelspec": {
      "name": "python3",
      "display_name": "Python 3"
    },
    "language_info": {
      "name": "python"
    }
  },
  "cells": [
    {
      "cell_type": "markdown",
      "metadata": {
        "id": "view-in-github",
        "colab_type": "text"
      },
      "source": [
        "<a href=\"https://colab.research.google.com/github/cvcdrew/final/blob/main/weather_fetcher.ipynb\" target=\"_parent\"><img src=\"https://colab.research.google.com/assets/colab-badge.svg\" alt=\"Open In Colab\"/></a>"
      ]
    },
    {
      "cell_type": "code",
      "execution_count": 9,
      "metadata": {
        "id": "qe0bvT1Ou0qt"
      },
      "outputs": [],
      "source": [
        "import requests\n",
        "\n",
        "def safe_weather_data_fetch(city):\n",
        "    \"\"\"Fetch weather data for a city from wttr.in API - Week 8 version\"\"\"\n",
        "    try:\n",
        "        url = f\"http://wttr.in/{city}?format=j1\"\n",
        "        response = requests.get(url)\n",
        "        data = response.json()\n",
        "\n",
        "        weather_info = {\n",
        "            'city': city,\n",
        "            'temperature': data['current_condition'][0]['temp_C'],\n",
        "            'wind_speed': data['current_condition'][0]['windspeedKmph'],\n",
        "            'description': data['current_condition'][0]['weatherDesc'][0]['value']\n",
        "        }\n",
        "        return weather_info\n",
        "    except:\n",
        "        # ❌ Generic except clause — can hide all kinds of unexpected errors.\n",
        "        return \"Error occurred\"\n",
        "\n",
        "# ✅ Improved version\n",
        "def ideal_safe_weather_data_fetch(city):\n",
        "    \"\"\"Improved version using Week 8 error handling concepts\"\"\"\n",
        "    try:\n",
        "        # ✅ Week 6 concept: Basic input validation\n",
        "        if not city:\n",
        "            print(\"Error: City name cannot be empty\")\n",
        "            return None\n",
        "\n",
        "        url = f\"http://wttr.in/{city}?format=j1\"\n",
        "        response = requests.get(url)\n",
        "\n",
        "        # ✅ Check for HTTP errors explicitly\n",
        "        response.raise_for_status()\n",
        "\n",
        "        data = response.json()\n",
        "\n",
        "        # ✅ Structured extraction with specific error catching\n",
        "        try:\n",
        "            current = data['current_condition'][0]\n",
        "            weather_info = {\n",
        "                'city': city,\n",
        "                'temperature': current['temp_C'],\n",
        "                'wind_speed': current['windspeedKmph'],\n",
        "                'description': current['weatherDesc'][0]['value']\n",
        "            }\n",
        "            return weather_info\n",
        "        except (KeyError, IndexError, TypeError) as e:\n",
        "            print(f\"Error: Could not extract weather data - {e}\")\n",
        "            return None\n",
        "\n",
        "    except requests.exceptions.RequestException as e:\n",
        "        # ✅ Specific exception for HTTP-related issues\n",
        "        print(f\"Error: Could not connect to weather service - {e}\")\n",
        "        return None\n"
      ]
    }
  ]
}